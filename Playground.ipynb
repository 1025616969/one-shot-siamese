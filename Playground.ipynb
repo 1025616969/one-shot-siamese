{
 "cells": [
  {
   "cell_type": "code",
   "execution_count": 1,
   "metadata": {},
   "outputs": [],
   "source": [
    "import numpy as np\n",
    "import matplotlib.pyplot as plt\n",
    "\n",
    "import random\n",
    "import torch\n",
    "import torch.nn.functional as F\n",
    "from torch.autograd import Variable\n",
    "\n",
    "from utils import plot_omniglot_pairs\n",
    "from data_loader import get_train_valid_loader, get_test_loader\n",
    "\n",
    "%load_ext autoreload\n",
    "%autoreload 2"
   ]
  },
  {
   "cell_type": "code",
   "execution_count": 2,
   "metadata": {},
   "outputs": [],
   "source": [
    "data_dir = './data/changed/'\n",
    "batch_size = 32\n",
    "# seed_number = 0\n",
    "# torch.manual_seed(seed_number)"
   ]
  },
  {
   "cell_type": "code",
   "execution_count": null,
   "metadata": {},
   "outputs": [],
   "source": [
    "train_loader, valid_loader = get_train_valid_loader(data_dir, batch_size, 30000, False, True)"
   ]
  },
  {
   "cell_type": "code",
   "execution_count": null,
   "metadata": {},
   "outputs": [],
   "source": [
    "print(\"Train Pairs: {:,}\".format(len(train_loader.dataset)))\n",
    "print(\"Valid Trials: {:,}\".format(valid_loader.dataset.times))"
   ]
  },
  {
   "cell_type": "code",
   "execution_count": null,
   "metadata": {},
   "outputs": [],
   "source": [
    "x1, x2, y = next(iter(train_loader))\n",
    "\n",
    "# grab 2 pairs\n",
    "x1 = x1[0:2].numpy().squeeze()\n",
    "x2 = x2[0:2].numpy().squeeze()\n",
    "y = y[0:2].numpy().squeeze()\n",
    "\n",
    "plot_omniglot_pairs(x1, x2, y)"
   ]
  },
  {
   "cell_type": "code",
   "execution_count": null,
   "metadata": {},
   "outputs": [],
   "source": [
    "poop = iter(valid_loader)\n",
    "\n",
    "for i, (x1, x2) in enumerate(poop):\n",
    "    if i > 2:\n",
    "        break\n",
    "    plt.figure(figsize=(20, 2))\n",
    "\n",
    "    n = len(x1)\n",
    "\n",
    "    for i in range(n):\n",
    "        x1_ = x1[i]\n",
    "        x2_ = x2[i]\n",
    "\n",
    "        # display top\n",
    "        ax = plt.subplot(2, n, i + 1)\n",
    "        plt.imshow(x1_.squeeze())\n",
    "        plt.gray()\n",
    "        ax.get_xaxis().set_visible(False)\n",
    "        ax.get_yaxis().set_visible(False)\n",
    "\n",
    "        # display bottom\n",
    "        ax = plt.subplot(2, n, i + 1 + n)\n",
    "        plt.imshow(x2_.squeeze())\n",
    "        plt.gray()\n",
    "        ax.get_xaxis().set_visible(False)\n",
    "        ax.get_yaxis().set_visible(False)\n",
    "\n",
    "    plt.tight_layout()\n",
    "    plt.show()"
   ]
  },
  {
   "cell_type": "code",
   "execution_count": 12,
   "metadata": {},
   "outputs": [],
   "source": [
    "test_loader = get_test_loader(data_dir, seed=0)"
   ]
  },
  {
   "cell_type": "code",
   "execution_count": 13,
   "metadata": {},
   "outputs": [
    {
     "data": {
      "image/png": "[encoded data removed]",
      "text/plain": [
       "<matplotlib.figure.Figure at 0x10ad7a5f8>"
      ]
     },
     "metadata": {},
     "output_type": "display_data"
    },
    {
     "data": {
      "image/png": "[encoded data removed]",
      "text/plain": [
       "<matplotlib.figure.Figure at 0x10b0100b8>"
      ]
     },
     "metadata": {},
     "output_type": "display_data"
    }
   ],
   "source": [
    "poop = iter(test_loader)\n",
    "\n",
    "for i, (x1, x2) in enumerate(poop):\n",
    "    if i > 1:\n",
    "        break\n",
    "    plt.figure(figsize=(20, 2))\n",
    "\n",
    "    n = len(x1)\n",
    "\n",
    "    for i in range(n):\n",
    "        x1_ = x1[i]\n",
    "        x2_ = x2[i]\n",
    "\n",
    "        # display top\n",
    "        ax = plt.subplot(2, n, i + 1)\n",
    "        plt.imshow(x1_.squeeze())\n",
    "        plt.gray()\n",
    "        ax.get_xaxis().set_visible(False)\n",
    "        ax.get_yaxis().set_visible(False)\n",
    "\n",
    "        # display bottom\n",
    "        ax = plt.subplot(2, n, i + 1 + n)\n",
    "        plt.imshow(x2_.squeeze())\n",
    "        plt.gray()\n",
    "        ax.get_xaxis().set_visible(False)\n",
    "        ax.get_yaxis().set_visible(False)\n",
    "\n",
    "    plt.tight_layout()\n",
    "    plt.show()"
   ]
  },
  {
   "cell_type": "code",
   "execution_count": 7,
   "metadata": {},
   "outputs": [
    {
     "data": {
      "image/png": "[encoded data removed]",
      "text/plain": [
       "<matplotlib.figure.Figure at 0x109e760b8>"
      ]
     },
     "metadata": {},
     "output_type": "display_data"
    },
    {
     "data": {
      "image/png": "[encoded data removed]",
      "text/plain": [
       "<matplotlib.figure.Figure at 0x103ebd6d8>"
      ]
     },
     "metadata": {},
     "output_type": "display_data"
    }
   ],
   "source": [
    "poop = iter(test_loader)\n",
    "\n",
    "for i, (x1, x2) in enumerate(poop):\n",
    "    if i > 1:\n",
    "        break\n",
    "    plt.figure(figsize=(20, 2))\n",
    "\n",
    "    n = len(x1)\n",
    "\n",
    "    for i in range(n):\n",
    "        x1_ = x1[i]\n",
    "        x2_ = x2[i]\n",
    "\n",
    "        # display top\n",
    "        ax = plt.subplot(2, n, i + 1)\n",
    "        plt.imshow(x1_.squeeze())\n",
    "        plt.gray()\n",
    "        ax.get_xaxis().set_visible(False)\n",
    "        ax.get_yaxis().set_visible(False)\n",
    "\n",
    "        # display bottom\n",
    "        ax = plt.subplot(2, n, i + 1 + n)\n",
    "        plt.imshow(x2_.squeeze())\n",
    "        plt.gray()\n",
    "        ax.get_xaxis().set_visible(False)\n",
    "        ax.get_yaxis().set_visible(False)\n",
    "\n",
    "    plt.tight_layout()\n",
    "    plt.show()"
   ]
  }
 ],
 "metadata": {
  "kernelspec": {
   "display_name": "Python 3",
   "language": "python",
   "name": "python3"
  },
  "language_info": {
   "codemirror_mode": {
    "name": "ipython",
    "version": 3
   },
   "file_extension": ".py",
   "mimetype": "text/x-python",
   "name": "python",
   "nbconvert_exporter": "python",
   "pygments_lexer": "ipython3",
   "version": "3.6.3"
  }
 },
 "nbformat": 4,
 "nbformat_minor": 2
}
