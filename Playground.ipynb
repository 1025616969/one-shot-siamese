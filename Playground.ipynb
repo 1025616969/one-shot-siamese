{
 "cells": [
  {
   "cell_type": "code",
   "execution_count": 1,
   "metadata": {},
   "outputs": [],
   "source": [
    "import numpy as np\n",
    "import matplotlib.pyplot as plt\n",
    "\n",
    "import torch\n",
    "import torch.nn.functional as F\n",
    "from torch.autograd import Variable\n",
    "\n",
    "from utils import plot_omniglot_pairs\n",
    "from data_loader import get_train_valid_loader, get_test_loader\n",
    "\n",
    "%load_ext autoreload\n",
    "%autoreload 2"
   ]
  },
  {
   "cell_type": "code",
   "execution_count": 2,
   "metadata": {},
   "outputs": [],
   "source": [
    "data_dir = './data/'\n",
    "batch_size = 32"
   ]
  },
  {
   "cell_type": "code",
   "execution_count": 3,
   "metadata": {},
   "outputs": [],
   "source": [
    "train_loader, valid_loader = get_train_valid_loader(data_dir, batch_size, False)\n",
    "test_loader = get_test_loader(data_dir)"
   ]
  },
  {
   "cell_type": "code",
   "execution_count": 4,
   "metadata": {},
   "outputs": [
    {
     "name": "stdout",
     "output_type": "stream",
     "text": [
      "Train: 30,000\n",
      "Valid: 28\n",
      "Test: 800\n"
     ]
    }
   ],
   "source": [
    "print(\"Train: {:,}\".format(len(train_loader.dataset)))\n",
    "print(\"Valid: {:,}\".format(len(valid_loader.dataset)))\n",
    "print(\"Test: {:,}\".format(len(test_loader.dataset)))"
   ]
  },
  {
   "cell_type": "code",
   "execution_count": 5,
   "metadata": {},
   "outputs": [
    {
     "name": "stdout",
     "output_type": "stream",
     "text": [
      "x: (2, 2, 105, 105, 1)\n",
      "y: (2, 1)\n"
     ]
    },
    {
     "data": {
      "image/png": "[encoded data removed]",
      "text/plain": [
       "<matplotlib.figure.Figure at 0x10b30a550>"
      ]
     },
     "metadata": {},
     "output_type": "display_data"
    }
   ],
   "source": [
    "x, y = next(iter(train_loader))\n",
    "\n",
    "# grab 2 pairs\n",
    "x = x[0:2, :]\n",
    "y = y[0:2]\n",
    "\n",
    "x = x.numpy()\n",
    "x = np.transpose(x, (0, 1, 3, 4, 2))\n",
    "\n",
    "y = y.numpy()\n",
    "\n",
    "print(\"x: {}\".format(x.shape))\n",
    "print(\"y: {}\".format(y.shape))\n",
    "\n",
    "plot_omniglot_pairs(x, y)"
   ]
  },
  {
   "cell_type": "code",
   "execution_count": 6,
   "metadata": {},
   "outputs": [],
   "source": [
    "x, y = next(iter(valid_loader))"
   ]
  },
  {
   "cell_type": "code",
   "execution_count": 7,
   "metadata": {},
   "outputs": [
    {
     "name": "stdout",
     "output_type": "stream",
     "text": [
      "\n",
      " 0\n",
      "[torch.FloatTensor of size 1]\n",
      "\n"
     ]
    },
    {
     "data": {
      "image/png": "[encoded data removed]",
      "text/plain": [
       "<matplotlib.figure.Figure at 0x10a8a5080>"
      ]
     },
     "metadata": {},
     "output_type": "display_data"
    }
   ],
   "source": [
    "x = x.squeeze(0)\n",
    "y = y.squeeze(0)\n",
    "\n",
    "print(y)\n",
    "\n",
    "plt.figure(figsize=(20, 4))\n",
    "\n",
    "n = len(x)\n",
    "\n",
    "for i in range(n):\n",
    "    sample = x[i]\n",
    "    sample = sample.numpy()\n",
    "    sample = np.transpose(sample, (0, 2, 3, 1))\n",
    "\n",
    "    # display left\n",
    "    ax = plt.subplot(2, n, i + 1)\n",
    "    plt.imshow(sample[0].squeeze())\n",
    "    plt.gray()\n",
    "    ax.get_xaxis().set_visible(False)\n",
    "    ax.get_yaxis().set_visible(False)\n",
    "\n",
    "    # display right\n",
    "    ax = plt.subplot(2, n, i + 1 + n)\n",
    "    plt.imshow(sample[1].squeeze())\n",
    "    plt.gray()\n",
    "    ax.get_xaxis().set_visible(False)\n",
    "    ax.get_yaxis().set_visible(False)\n",
    "\n",
    "plt.tight_layout()\n",
    "plt.show()"
   ]
  }
 ],
 "metadata": {
  "kernelspec": {
   "display_name": "Python 3",
   "language": "python",
   "name": "python3"
  },
  "language_info": {
   "codemirror_mode": {
    "name": "ipython",
    "version": 3
   },
   "file_extension": ".py",
   "mimetype": "text/x-python",
   "name": "python",
   "nbconvert_exporter": "python",
   "pygments_lexer": "ipython3",
   "version": "3.6.3"
  }
 },
 "nbformat": 4,
 "nbformat_minor": 2
}
