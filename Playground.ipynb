{
 "cells": [
  {
   "cell_type": "code",
   "execution_count": 79,
   "metadata": {},
   "outputs": [
    {
     "name": "stdout",
     "output_type": "stream",
     "text": [
      "The autoreload extension is already loaded. To reload it, use:\n",
      "  %reload_ext autoreload\n"
     ]
    }
   ],
   "source": [
    "import numpy as np\n",
    "import matplotlib.pyplot as plt\n",
    "\n",
    "import os\n",
    "import random\n",
    "import torch\n",
    "import torch.nn.functional as F\n",
    "from torch.autograd import Variable\n",
    "\n",
    "from utils import pickle_load\n",
    "import torchvision.datasets as dset\n",
    "from torch.utils.data.dataset import Dataset\n",
    "from torch.utils.data import DataLoader\n",
    "from torchvision import transforms\n",
    "\n",
    "from utils import plot_omniglot_pairs\n",
    "from data_loader import get_train_valid_loader, get_test_loader\n",
    "\n",
    "%load_ext autoreload\n",
    "%autoreload 2"
   ]
  },
  {
   "cell_type": "code",
   "execution_count": 80,
   "metadata": {},
   "outputs": [],
   "source": [
    "data_dir = './data/changed/'\n",
    "batch_size = 32\n",
    "num_train = int(60e3)\n",
    "augment = True\n",
    "valid_trials = 320\n",
    "test_trials = 400\n",
    "way = 20"
   ]
  },
  {
   "cell_type": "code",
   "execution_count": 81,
   "metadata": {},
   "outputs": [],
   "source": [
    "train_loader, valid_loader = get_train_valid_loader(\n",
    "        data_dir, batch_size, num_train, augment, way=way, trials=valid_trials,\n",
    "        shuffle=False, seed=0,\n",
    ")\n",
    "\n",
    "test_loader = get_test_loader(\n",
    "    data_dir, way=way, trials=test_trials, seed=0\n",
    ")"
   ]
  },
  {
   "cell_type": "code",
   "execution_count": 82,
   "metadata": {},
   "outputs": [
    {
     "name": "stdout",
     "output_type": "stream",
     "text": [
      "Train Pairs: 60,000\n",
      "Valid Trials: 320\n",
      "Test Trials: 400\n"
     ]
    }
   ],
   "source": [
    "print(\"Train Pairs: {:,}\".format(len(train_loader.dataset)))\n",
    "print(\"Valid Trials: {:,}\".format(valid_loader.dataset.trials))\n",
    "print(\"Test Trials: {:,}\".format(test_loader.dataset.trials))"
   ]
  },
  {
   "cell_type": "markdown",
   "metadata": {},
   "source": [
    "## Train"
   ]
  },
  {
   "cell_type": "code",
   "execution_count": 85,
   "metadata": {},
   "outputs": [
    {
     "data": {
      "image/png": "[encoded data removed]",
      "text/plain": [
       "<matplotlib.figure.Figure at 0x117279710>"
      ]
     },
     "metadata": {},
     "output_type": "display_data"
    }
   ],
   "source": [
    "x1, x2, y = next(iter(train_loader))\n",
    "\n",
    "# grab 2 pairs\n",
    "x1 = x1[0:2].numpy().squeeze()\n",
    "x2 = x2[0:2].numpy().squeeze()\n",
    "y = y[0:2].numpy().squeeze()\n",
    "\n",
    "plot_omniglot_pairs(x1, x2, y)"
   ]
  },
  {
   "cell_type": "code",
   "execution_count": null,
   "metadata": {},
   "outputs": [],
   "source": []
  },
  {
   "cell_type": "markdown",
   "metadata": {},
   "source": [
    "## Valid"
   ]
  },
  {
   "cell_type": "code",
   "execution_count": null,
   "metadata": {},
   "outputs": [],
   "source": [
    "for i, (x1, x2) in enumerate(valid_loader):\n",
    "    if i >= 3:\n",
    "        break\n",
    "\n",
    "    plt.figure(figsize=(20, 2))\n",
    "\n",
    "    n = len(x1)\n",
    "\n",
    "    for i in range(n):\n",
    "        x1_ = x1[i]\n",
    "        x2_ = x2[i]\n",
    "\n",
    "        # display top\n",
    "        ax = plt.subplot(2, n, i + 1)\n",
    "        plt.imshow(x1_.squeeze())\n",
    "        plt.gray()\n",
    "        ax.get_xaxis().set_visible(False)\n",
    "        ax.get_yaxis().set_visible(False)\n",
    "\n",
    "        # display bottom\n",
    "        ax = plt.subplot(2, n, i + 1 + n)\n",
    "        plt.imshow(x2_.squeeze())\n",
    "        plt.gray()\n",
    "        ax.get_xaxis().set_visible(False)\n",
    "        ax.get_yaxis().set_visible(False)\n",
    "\n",
    "    plt.tight_layout()\n",
    "    plt.show()"
   ]
  },
  {
   "cell_type": "markdown",
   "metadata": {},
   "source": [
    "## Test"
   ]
  },
  {
   "cell_type": "code",
   "execution_count": null,
   "metadata": {},
   "outputs": [],
   "source": [
    "for i, (x1, x2) in enumerate(test_loader):\n",
    "    if i >= 3:\n",
    "        break\n",
    "\n",
    "    plt.figure(figsize=(20, 2))\n",
    "\n",
    "    n = len(x1)\n",
    "\n",
    "    for i in range(n):\n",
    "        x1_ = x1[i]\n",
    "        x2_ = x2[i]\n",
    "\n",
    "        # display top\n",
    "        ax = plt.subplot(2, n, i + 1)\n",
    "        plt.imshow(x1_.squeeze())\n",
    "        plt.gray()\n",
    "        ax.get_xaxis().set_visible(False)\n",
    "        ax.get_yaxis().set_visible(False)\n",
    "\n",
    "        # display bottom\n",
    "        ax = plt.subplot(2, n, i + 1 + n)\n",
    "        plt.imshow(x2_.squeeze())\n",
    "        plt.gray()\n",
    "        ax.get_xaxis().set_visible(False)\n",
    "        ax.get_yaxis().set_visible(False)\n",
    "\n",
    "    plt.tight_layout()\n",
    "    plt.show()"
   ]
  }
 ],
 "metadata": {
  "kernelspec": {
   "display_name": "Python 3",
   "language": "python",
   "name": "python3"
  },
  "language_info": {
   "codemirror_mode": {
    "name": "ipython",
    "version": 3
   },
   "file_extension": ".py",
   "mimetype": "text/x-python",
   "name": "python",
   "nbconvert_exporter": "python",
   "pygments_lexer": "ipython3",
   "version": "3.6.3"
  }
 },
 "nbformat": 4,
 "nbformat_minor": 2
}
