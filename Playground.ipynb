{
 "cells": [
  {
   "cell_type": "code",
   "execution_count": null,
   "metadata": {},
   "outputs": [],
   "source": [
    "import numpy as np\n",
    "import matplotlib.pyplot as plt\n",
    "\n",
    "import torch\n",
    "import torch.nn.functional as F\n",
    "from torch.autograd import Variable\n",
    "\n",
    "from utils import plot_omniglot_pairs\n",
    "from data_loader import get_train_valid_loader, get_test_loader\n",
    "\n",
    "%load_ext autoreload\n",
    "%autoreload 2"
   ]
  },
  {
   "cell_type": "code",
   "execution_count": 2,
   "metadata": {},
   "outputs": [],
   "source": [
    "data_dir = './data/'\n",
    "batch_size = 32"
   ]
  },
  {
   "cell_type": "code",
   "execution_count": 5,
   "metadata": {},
   "outputs": [],
   "source": [
    "train_loader, valid_loader = get_train_valid_loader(data_dir, batch_size, False)\n",
    "test_loader = get_test_loader(data_dir)"
   ]
  },
  {
   "cell_type": "code",
   "execution_count": 6,
   "metadata": {},
   "outputs": [
    {
     "name": "stdout",
     "output_type": "stream",
     "text": [
      "Train: 15,000\n",
      "Valid: 280\n",
      "Test: 400\n"
     ]
    }
   ],
   "source": [
    "print(\"Train: {:,}\".format(len(train_loader.dataset)))\n",
    "print(\"Valid: {:,}\".format(len(valid_loader.dataset)))\n",
    "print(\"Test: {:,}\".format(len(test_loader.dataset)))"
   ]
  },
  {
   "cell_type": "code",
   "execution_count": 7,
   "metadata": {},
   "outputs": [
    {
     "name": "stdout",
     "output_type": "stream",
     "text": [
      "x: (2, 2, 105, 105, 1)\n",
      "y: (2, 1)\n"
     ]
    }
   ],
   "source": [
    "x, y = next(iter(train_loader))\n",
    "\n",
    "# grab 2 pairs\n",
    "x = x[0:2, :]\n",
    "y = y[0:2]\n",
    "\n",
    "x = x.numpy()\n",
    "x = np.transpose(x, (0, 1, 3, 4, 2))\n",
    "\n",
    "y = y.numpy()\n",
    "\n",
    "print(\"x: {}\".format(x.shape))\n",
    "print(\"y: {}\".format(y.shape))"
   ]
  },
  {
   "cell_type": "code",
   "execution_count": 8,
   "metadata": {},
   "outputs": [
    {
     "data": {
      "image/png": "[encoded data removed]",
      "text/plain": [
       "<matplotlib.figure.Figure at 0x114657c18>"
      ]
     },
     "metadata": {},
     "output_type": "display_data"
    }
   ],
   "source": [
    "plot_omniglot_pairs(x, y)"
   ]
  },
  {
   "cell_type": "code",
   "execution_count": 72,
   "metadata": {},
   "outputs": [],
   "source": [
    "from model import SiameseNet"
   ]
  },
  {
   "cell_type": "code",
   "execution_count": 74,
   "metadata": {},
   "outputs": [],
   "source": [
    "model = SiameseNet()\n",
    "\n",
    "num_layers = len(list(model.children()))"
   ]
  },
  {
   "cell_type": "code",
   "execution_count": 77,
   "metadata": {},
   "outputs": [],
   "source": [
    "init_momentum = 5\n",
    "\n",
    "init_lrs = [\n",
    "    0.08743797256700206,\n",
    "    0.006548296940024738,\n",
    "    0.009556466904465523,\n",
    "    0.0685581642286567,\n",
    "    0.07304234902682386,\n",
    "    0.06970373625639423\n",
    "]\n",
    "\n",
    "init_momentums = [init_momentum] * num_layers\n",
    "\n",
    "end_momentums = [\n",
    "    10,\n",
    "    0.7522947845351178,\n",
    "    0.5934778660438647,\n",
    "    0.46755704543908005,\n",
    "    0.6182257012824235,\n",
    "    0.7892308522525984\n",
    "]"
   ]
  },
  {
   "cell_type": "code",
   "execution_count": 134,
   "metadata": {},
   "outputs": [],
   "source": [
    "epochs = 2"
   ]
  },
  {
   "cell_type": "code",
   "execution_count": 135,
   "metadata": {},
   "outputs": [],
   "source": [
    "f = lambda max, min: (max - min) / (epochs-1)"
   ]
  },
  {
   "cell_type": "code",
   "execution_count": 136,
   "metadata": {},
   "outputs": [],
   "source": [
    "rates = [\n",
    "    f(x, y) for x,y in zip(end_momentums, init_momentums)\n",
    "]"
   ]
  },
  {
   "cell_type": "code",
   "execution_count": 137,
   "metadata": {},
   "outputs": [
    {
     "data": {
      "text/plain": [
       "[5.0,\n",
       " -4.247705215464882,\n",
       " -4.406522133956136,\n",
       " -4.53244295456092,\n",
       " -4.381774298717577,\n",
       " -4.210769147747402]"
      ]
     },
     "execution_count": 137,
     "metadata": {},
     "output_type": "execute_result"
    }
   ],
   "source": [
    "rates"
   ]
  },
  {
   "cell_type": "code",
   "execution_count": 138,
   "metadata": {},
   "outputs": [
    {
     "name": "stdout",
     "output_type": "stream",
     "text": [
      "\t5\n",
      "\t10.0\n"
     ]
    }
   ],
   "source": [
    "x = 5\n",
    "for i in range(epochs):\n",
    "    if i > 0:\n",
    "        x += rates[0]\n",
    "    print(\"\\t{}\".format(x))"
   ]
  },
  {
   "cell_type": "code",
   "execution_count": 100,
   "metadata": {},
   "outputs": [],
   "source": [
    "import torch.optim as optim\n",
    "from torch.optim.lr_scheduler import StepLR"
   ]
  },
  {
   "cell_type": "code",
   "execution_count": 116,
   "metadata": {},
   "outputs": [],
   "source": [
    "init_lr = 1e-3\n",
    "lr = init_lr\n",
    "optimizer = optim.SGD(model.parameters(), lr=lr)"
   ]
  },
  {
   "cell_type": "code",
   "execution_count": 117,
   "metadata": {},
   "outputs": [],
   "source": [
    "# learning rate scheduler\n",
    "scheduler = StepLR(\n",
    "    optimizer, step_size=1, gamma=0.5,\n",
    ")"
   ]
  },
  {
   "cell_type": "code",
   "execution_count": 118,
   "metadata": {},
   "outputs": [
    {
     "name": "stdout",
     "output_type": "stream",
     "text": [
      "0.001\n",
      "0.0005\n",
      "0.00025\n",
      "0.000125\n",
      "6.25e-05\n"
     ]
    }
   ],
   "source": [
    "for i in range(epochs):\n",
    "    scheduler.step()\n",
    "    print(list(optimizer.param_groups)[0]['lr'])"
   ]
  },
  {
   "cell_type": "code",
   "execution_count": 120,
   "metadata": {},
   "outputs": [
    {
     "name": "stdout",
     "output_type": "stream",
     "text": [
      "0.001\n",
      "0.0005\n",
      "0.00025\n",
      "0.000125\n",
      "6.25e-05\n"
     ]
    }
   ],
   "source": [
    "x = 1e-3\n",
    "for i in range(epochs):\n",
    "    if i > 0:\n",
    "        x *= 0.5\n",
    "    print(x)"
   ]
  },
  {
   "cell_type": "code",
   "execution_count": null,
   "metadata": {},
   "outputs": [],
   "source": []
  }
 ],
 "metadata": {
  "kernelspec": {
   "display_name": "Python 3",
   "language": "python",
   "name": "python3"
  },
  "language_info": {
   "codemirror_mode": {
    "name": "ipython",
    "version": 3
   },
   "file_extension": ".py",
   "mimetype": "text/x-python",
   "name": "python",
   "nbconvert_exporter": "python",
   "pygments_lexer": "ipython3",
   "version": "3.6.3"
  }
 },
 "nbformat": 4,
 "nbformat_minor": 2
}
